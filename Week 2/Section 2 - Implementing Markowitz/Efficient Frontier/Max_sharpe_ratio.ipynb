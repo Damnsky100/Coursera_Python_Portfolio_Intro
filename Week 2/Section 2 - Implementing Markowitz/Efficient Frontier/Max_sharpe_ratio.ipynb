{
 "cells": [
  {
   "cell_type": "code",
   "execution_count": 74,
   "metadata": {},
   "outputs": [
    {
     "name": "stdout",
     "output_type": "stream",
     "text": [
      "The autoreload extension is already loaded. To reload it, use:\n",
      "  %reload_ext autoreload\n"
     ]
    }
   ],
   "source": [
    "%load_ext autoreload\n",
    "%autoreload 2\n",
    "%matplotlib inline\n",
    "import edhec_risk_kit as erk\n",
    "import numpy as np\n",
    "import pandas as pd"
   ]
  },
  {
   "cell_type": "code",
   "execution_count": 55,
   "metadata": {},
   "outputs": [],
   "source": [
    "%reload_ext autoreload\n",
    "ind = erk.get_ind_returns()\n",
    "er = erk.annualize_rets(ind[\"1996\":\"2000\"],12)\n",
    "cov = ind[\"1996\":\"2000\"].cov() #The covariance matrix"
   ]
  },
  {
   "cell_type": "code",
   "execution_count": 71,
   "metadata": {},
   "outputs": [
    {
     "data": {
      "text/plain": [
       "<AxesSubplot:xlabel='Volatility'>"
      ]
     },
     "execution_count": 71,
     "metadata": {},
     "output_type": "execute_result"
    },
    {
     "data": {
      "image/png": "[encoded data removed]",
      "text/plain": [
       "<Figure size 432x288 with 1 Axes>"
      ]
     },
     "metadata": {
      "needs_background": "light"
     },
     "output_type": "display_data"
    }
   ],
   "source": [
    "erk.plot_ef(20, er, cov, riskfree_rate=0.01, show_cml=True)"
   ]
  },
  {
   "cell_type": "markdown",
   "metadata": {},
   "source": [
    "## Function Wrote"
   ]
  },
  {
   "cell_type": "code",
   "execution_count": null,
   "metadata": {},
   "outputs": [],
   "source": [
    "def optimal_weights(n_points, er, cov):\n",
    "    \"\"\"\n",
    "    --> generate a list of weights to run the optimizer on to minimize the vol\n",
    "    \"\"\"\n",
    "    target_rs = np.linspace(er.min(), er.max(), n_points)\n",
    "    weights = [minimize_vol(target_return, er, cov) for target_return in target_rs] #Pour juste avoir des points sur la frontière efficiente\n",
    "    return weights\n",
    "\n",
    "def plot_ef(n_points, er, cov, style=\".-\", show_cml=False, riskfree_rate=0):\n",
    "    \"\"\"\n",
    "    Plots the N-asset efficient frontier\n",
    "    \"\"\"\n",
    "   \n",
    "    weights = optimal_weights(n_points, er ,cov)\n",
    "    rets = [portfolio_return(w, er) for w in weights]\n",
    "    vols = [portfolio_vol(w, cov) for w in weights]\n",
    "    ef = pd.DataFrame({\n",
    "        \"Returns\": rets, \n",
    "        \"Volatility\": vols\n",
    "    })\n",
    "    ax = ef.plot.line(x=\"Volatility\", y=\"Returns\", style=style)\n",
    "    if show_cml:\n",
    "        ax.set_xlim(left = 0)\n",
    "        rf = 0.1\n",
    "        w_msr = msr(riskfree_rate, er, cov)\n",
    "        r_msr = portfolio_return(w_msr, er)\n",
    "        vol_msr = portfolio_vol(w_msr, cov)\n",
    "        #Add capital market line\n",
    "        cml_x = [0, vol_msr]\n",
    "        cml_y = [riskfree_rate, r_msr]\n",
    "        ax.plot(cml_x, cml_y, color=\"green\", marker=\"o\", linestyle=\"dashed\", markersize = 5, linewidth= 2)\n",
    "        return ax\n",
    "    \n",
    "\n",
    "def msr(risk_free_rate, er, cov):\n",
    "    \"\"\"\n",
    "    Returns the weights of the portfolio that gives you the maximum sharpe ratio given \n",
    "    the riskfree rate and expected returns and a covariance matrix\n",
    "    \n",
    "    \"\"\"\n",
    "    n = er.shape[0] #determine the number of assets\n",
    "    init_guess = np.repeat(1/n, n) #Initial weight vector is equally distributed\n",
    "    bounds = ((0.0, 1),) * n #I don't want to be able to short, multiply a tuple make some copy of it\n",
    "    \n",
    "    \n",
    "    weights_sum_to_1 = {\n",
    "        \"type\":\"eq\",         #{constraints} eq = equalize to 0\n",
    "        \"fun\": lambda weights: np.sum(weights) - 1\n",
    "    }\n",
    "    def neg_sharpe_ratio(weights, risk_free_rate, er, cov):\n",
    "        \"\"\"\n",
    "        Returns the negative of the sharpe ratio, given weights\n",
    "        \n",
    "        \"\"\"\n",
    "        r = portfolio_return(weights, er)\n",
    "        vol = portfolio_vol(weights, cov)\n",
    "        return  -(r-risk_free_rate) / vol\n",
    "        \n",
    "        \n",
    "    results = minimize(neg_sharpe_ratio, init_guess,\n",
    "                       args = (risk_free_rate, er, cov,), method=\"SLSQP\", \n",
    "                       options= {\"disp\": False},\n",
    "                       constraints=(weights_sum_to_1),\n",
    "                       bounds = bounds\n",
    "                       )\n",
    "    return results.x"
   ]
  },
  {
   "cell_type": "code",
   "execution_count": 87,
   "metadata": {},
   "outputs": [
    {
     "data": {
      "text/html": [
       "<div>\n",
       "<style scoped>\n",
       "    .dataframe tbody tr th:only-of-type {\n",
       "        vertical-align: middle;\n",
       "    }\n",
       "\n",
       "    .dataframe tbody tr th {\n",
       "        vertical-align: top;\n",
       "    }\n",
       "\n",
       "    .dataframe thead th {\n",
       "        text-align: right;\n",
       "    }\n",
       "</style>\n",
       "<table border=\"1\" class=\"dataframe\">\n",
       "  <thead>\n",
       "    <tr style=\"text-align: right;\">\n",
       "      <th></th>\n",
       "      <th>A</th>\n",
       "      <th>B</th>\n",
       "    </tr>\n",
       "  </thead>\n",
       "  <tbody>\n",
       "    <tr>\n",
       "      <th>0</th>\n",
       "      <td>NaN</td>\n",
       "      <td>NaN</td>\n",
       "    </tr>\n",
       "    <tr>\n",
       "      <th>1</th>\n",
       "      <td>0.090909</td>\n",
       "      <td>-0.125000</td>\n",
       "    </tr>\n",
       "    <tr>\n",
       "      <th>2</th>\n",
       "      <td>-0.125000</td>\n",
       "      <td>-0.047619</td>\n",
       "    </tr>\n",
       "    <tr>\n",
       "      <th>3</th>\n",
       "      <td>0.285714</td>\n",
       "      <td>-0.650000</td>\n",
       "    </tr>\n",
       "    <tr>\n",
       "      <th>4</th>\n",
       "      <td>0.259259</td>\n",
       "      <td>2.714286</td>\n",
       "    </tr>\n",
       "  </tbody>\n",
       "</table>\n",
       "</div>"
      ],
      "text/plain": [
       "          A         B\n",
       "0       NaN       NaN\n",
       "1  0.090909 -0.125000\n",
       "2 -0.125000 -0.047619\n",
       "3  0.285714 -0.650000\n",
       "4  0.259259  2.714286"
      ]
     },
     "execution_count": 87,
     "metadata": {},
     "output_type": "execute_result"
    }
   ],
   "source": [
    "A =[22,24,21,27,34] \n",
    "B =[24,21,20,7,26]\n",
    "\n",
    "x = pd.DataFrame({\"A\": A,\"B\":B}).pct_change()\n",
    "x\n"
   ]
  }
 ],
 "metadata": {
  "kernelspec": {
   "display_name": "Python 3.10.5 64-bit",
   "language": "python",
   "name": "python3"
  },
  "language_info": {
   "codemirror_mode": {
    "name": "ipython",
    "version": 3
   },
   "file_extension": ".py",
   "mimetype": "text/x-python",
   "name": "python",
   "nbconvert_exporter": "python",
   "pygments_lexer": "ipython3",
   "version": "3.10.5"
  },
  "orig_nbformat": 4,
  "vscode": {
   "interpreter": {
    "hash": "aee8b7b246df8f9039afb4144a1f6fd8d2ca17a180786b69acc140d282b71a49"
   }
  }
 },
 "nbformat": 4,
 "nbformat_minor": 2
}
